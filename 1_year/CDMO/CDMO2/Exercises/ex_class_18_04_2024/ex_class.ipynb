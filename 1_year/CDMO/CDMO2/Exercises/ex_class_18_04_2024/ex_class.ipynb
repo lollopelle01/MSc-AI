{
 "cells": [
  {
   "cell_type": "markdown",
   "metadata": {},
   "source": [
    "# Example of CDCL"
   ]
  },
  {
   "cell_type": "code",
   "execution_count": 3,
   "metadata": {},
   "outputs": [],
   "source": [
    "# Imports\n",
    "from z3 import *"
   ]
  },
  {
   "cell_type": "code",
   "execution_count": 4,
   "metadata": {},
   "outputs": [],
   "source": [
    "# Define variables\n",
    "x = []\n",
    "p = []\n",
    "\n",
    "for i in range(1,7, 1) :\n",
    "    x.append(Int(f\"x_{i}\"))\n",
    "\n",
    "for i in range(1,3, 1) :\n",
    "    p.append(Bool(f\"p_{i}\"))"
   ]
  },
  {
   "cell_type": "code",
   "execution_count": null,
   "metadata": {},
   "outputs": [],
   "source": [
    "# Define constraints\n",
    "s = Solver()\n",
    "\n",
    "c1 = Or(2*x[1]-x[2] > 2, p[0])\n",
    "c2 = Or(Not(p[1]), )\n"
   ]
  }
 ],
 "metadata": {
  "kernelspec": {
   "display_name": "Python 3",
   "language": "python",
   "name": "python3"
  },
  "language_info": {
   "codemirror_mode": {
    "name": "ipython",
    "version": 3
   },
   "file_extension": ".py",
   "mimetype": "text/x-python",
   "name": "python",
   "nbconvert_exporter": "python",
   "pygments_lexer": "ipython3",
   "version": "3.11.7"
  }
 },
 "nbformat": 4,
 "nbformat_minor": 2
}
