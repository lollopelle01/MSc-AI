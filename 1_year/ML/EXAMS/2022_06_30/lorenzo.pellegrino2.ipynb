{
 "cells": [
  {
   "cell_type": "code",
   "execution_count": 89,
   "metadata": {},
   "outputs": [],
   "source": [
    "# imports\n",
    "import pandas as pd\n",
    "from  sklearn.impute import SimpleImputer\n",
    "import numpy as np\n",
    "from sklearn.model_selection import train_test_split\n",
    "from sklearn.model_selection import GridSearchCV\n",
    "from sklearn.tree import DecisionTreeClassifier\n",
    "from sklearn.neighbors import KNeighborsClassifier\n",
    "from sklearn.metrics import cohen_kappa_score, f1_score\n",
    "from sklearn.metrics import confusion_matrix,ConfusionMatrixDisplay\n",
    "\n",
    "random_state = 42"
   ]
  },
  {
   "cell_type": "markdown",
   "metadata": {},
   "source": [
    "# 1) Load the data into a data frame with the proper coding of nulls, rename the columns to numbers starting from 1, as shown in the description file. Remove columns named 3, 25, 26, 27, 28. Explore the data. Show the count of nulls for each remaining column."
   ]
  },
  {
   "cell_type": "code",
   "execution_count": 61,
   "metadata": {},
   "outputs": [
    {
     "data": {
      "text/html": [
       "<div>\n",
       "<style scoped>\n",
       "    .dataframe tbody tr th:only-of-type {\n",
       "        vertical-align: middle;\n",
       "    }\n",
       "\n",
       "    .dataframe tbody tr th {\n",
       "        vertical-align: top;\n",
       "    }\n",
       "\n",
       "    .dataframe thead th {\n",
       "        text-align: right;\n",
       "    }\n",
       "</style>\n",
       "<table border=\"1\" class=\"dataframe\">\n",
       "  <thead>\n",
       "    <tr style=\"text-align: right;\">\n",
       "      <th></th>\n",
       "      <th>1</th>\n",
       "      <th>2</th>\n",
       "      <th>4</th>\n",
       "      <th>5</th>\n",
       "      <th>6</th>\n",
       "      <th>7</th>\n",
       "      <th>8</th>\n",
       "      <th>9</th>\n",
       "      <th>10</th>\n",
       "      <th>11</th>\n",
       "      <th>...</th>\n",
       "      <th>15</th>\n",
       "      <th>16</th>\n",
       "      <th>17</th>\n",
       "      <th>18</th>\n",
       "      <th>19</th>\n",
       "      <th>20</th>\n",
       "      <th>21</th>\n",
       "      <th>22</th>\n",
       "      <th>23</th>\n",
       "      <th>24</th>\n",
       "    </tr>\n",
       "  </thead>\n",
       "  <tbody>\n",
       "    <tr>\n",
       "      <th>0</th>\n",
       "      <td>2</td>\n",
       "      <td>1</td>\n",
       "      <td>38.50</td>\n",
       "      <td>66</td>\n",
       "      <td>28</td>\n",
       "      <td>3</td>\n",
       "      <td>3</td>\n",
       "      <td>NaN</td>\n",
       "      <td>2</td>\n",
       "      <td>5</td>\n",
       "      <td>...</td>\n",
       "      <td>NaN</td>\n",
       "      <td>NaN</td>\n",
       "      <td>3</td>\n",
       "      <td>5</td>\n",
       "      <td>45.00</td>\n",
       "      <td>8.40</td>\n",
       "      <td>NaN</td>\n",
       "      <td>NaN</td>\n",
       "      <td>2</td>\n",
       "      <td>2</td>\n",
       "    </tr>\n",
       "    <tr>\n",
       "      <th>1</th>\n",
       "      <td>1</td>\n",
       "      <td>1</td>\n",
       "      <td>39.2</td>\n",
       "      <td>88</td>\n",
       "      <td>20</td>\n",
       "      <td>NaN</td>\n",
       "      <td>NaN</td>\n",
       "      <td>4</td>\n",
       "      <td>1</td>\n",
       "      <td>3</td>\n",
       "      <td>...</td>\n",
       "      <td>NaN</td>\n",
       "      <td>NaN</td>\n",
       "      <td>4</td>\n",
       "      <td>2</td>\n",
       "      <td>50</td>\n",
       "      <td>85</td>\n",
       "      <td>2</td>\n",
       "      <td>2</td>\n",
       "      <td>3</td>\n",
       "      <td>2</td>\n",
       "    </tr>\n",
       "    <tr>\n",
       "      <th>2</th>\n",
       "      <td>2</td>\n",
       "      <td>1</td>\n",
       "      <td>38.30</td>\n",
       "      <td>40</td>\n",
       "      <td>24</td>\n",
       "      <td>1</td>\n",
       "      <td>1</td>\n",
       "      <td>3</td>\n",
       "      <td>1</td>\n",
       "      <td>3</td>\n",
       "      <td>...</td>\n",
       "      <td>NaN</td>\n",
       "      <td>NaN</td>\n",
       "      <td>1</td>\n",
       "      <td>1</td>\n",
       "      <td>33.00</td>\n",
       "      <td>6.70</td>\n",
       "      <td>NaN</td>\n",
       "      <td>NaN</td>\n",
       "      <td>1</td>\n",
       "      <td>2</td>\n",
       "    </tr>\n",
       "    <tr>\n",
       "      <th>3</th>\n",
       "      <td>1</td>\n",
       "      <td>9</td>\n",
       "      <td>39.10</td>\n",
       "      <td>164</td>\n",
       "      <td>84</td>\n",
       "      <td>4</td>\n",
       "      <td>1</td>\n",
       "      <td>6</td>\n",
       "      <td>2</td>\n",
       "      <td>2</td>\n",
       "      <td>...</td>\n",
       "      <td>2</td>\n",
       "      <td>5.00</td>\n",
       "      <td>3</td>\n",
       "      <td>NaN</td>\n",
       "      <td>48.00</td>\n",
       "      <td>7.20</td>\n",
       "      <td>3</td>\n",
       "      <td>5.30</td>\n",
       "      <td>2</td>\n",
       "      <td>1</td>\n",
       "    </tr>\n",
       "    <tr>\n",
       "      <th>4</th>\n",
       "      <td>2</td>\n",
       "      <td>1</td>\n",
       "      <td>37.30</td>\n",
       "      <td>104</td>\n",
       "      <td>35</td>\n",
       "      <td>NaN</td>\n",
       "      <td>NaN</td>\n",
       "      <td>6</td>\n",
       "      <td>2</td>\n",
       "      <td>NaN</td>\n",
       "      <td>...</td>\n",
       "      <td>NaN</td>\n",
       "      <td>NaN</td>\n",
       "      <td>NaN</td>\n",
       "      <td>NaN</td>\n",
       "      <td>74.00</td>\n",
       "      <td>7.40</td>\n",
       "      <td>NaN</td>\n",
       "      <td>NaN</td>\n",
       "      <td>2</td>\n",
       "      <td>2</td>\n",
       "    </tr>\n",
       "  </tbody>\n",
       "</table>\n",
       "<p>5 rows × 23 columns</p>\n",
       "</div>"
      ],
      "text/plain": [
       "  1   2      4    5   6    7    8    9  10   11  ...   15    16   17   18  \\\n",
       "0  2   1  38.50   66  28    3    3  NaN  2    5  ...  NaN   NaN    3    5   \n",
       "1  1   1   39.2   88  20  NaN  NaN    4  1    3  ...  NaN   NaN    4    2   \n",
       "2  2   1  38.30   40  24    1    1    3  1    3  ...  NaN   NaN    1    1   \n",
       "3  1   9  39.10  164  84    4    1    6  2    2  ...    2  5.00    3  NaN   \n",
       "4  2   1  37.30  104  35  NaN  NaN    6  2  NaN  ...  NaN   NaN  NaN  NaN   \n",
       "\n",
       "      19    20   21    22 23 24  \n",
       "0  45.00  8.40  NaN   NaN  2  2  \n",
       "1     50    85    2     2  3  2  \n",
       "2  33.00  6.70  NaN   NaN  1  2  \n",
       "3  48.00  7.20    3  5.30  2  1  \n",
       "4  74.00  7.40  NaN   NaN  2  2  \n",
       "\n",
       "[5 rows x 23 columns]"
      ]
     },
     "metadata": {},
     "output_type": "display_data"
    },
    {
     "data": {
      "text/plain": [
       "1       1\n",
       "2       0\n",
       "4      60\n",
       "5      24\n",
       "6      58\n",
       "7      56\n",
       "8      69\n",
       "9      47\n",
       "10     32\n",
       "11     55\n",
       "12     44\n",
       "13     56\n",
       "14    104\n",
       "15    106\n",
       "16    247\n",
       "17    102\n",
       "18    118\n",
       "19     29\n",
       "20     33\n",
       "21    165\n",
       "22    198\n",
       "23      1\n",
       "24      0\n",
       "dtype: int64"
      ]
     },
     "execution_count": 61,
     "metadata": {},
     "output_type": "execute_result"
    }
   ],
   "source": [
    "# Load the data\n",
    "df = pd.read_csv('./horse-colic.csv', header=None)\n",
    "\n",
    "# Rename the columns from 1 to 28\n",
    "new_c = [c+1 for c in df.columns]\n",
    "df.rename(columns=dict(zip(df.columns, new_c)), inplace=True)\n",
    "\n",
    "# Proper coding of nulls\n",
    "df.replace('?', np.nan, inplace=True)\n",
    "\n",
    "# Remove columns\n",
    "df.drop(columns=[3, 25, 26, 27, 28], inplace=True)\n",
    "\n",
    "# Explore the data\n",
    "display(df.head())\n",
    "\n",
    "# Show the null for column\n",
    "df.isnull().sum()"
   ]
  },
  {
   "cell_type": "markdown",
   "metadata": {},
   "source": [
    "# 2) Use column 23 as target for classification. Drop the rows where the target is null. Impute the nulls on the predicting columns using the column means (you can use the sklearn.impute.SimpleImputer) \n",
    "- Separe the dataset into the predicting and target parts X, y"
   ]
  },
  {
   "cell_type": "code",
   "execution_count": 64,
   "metadata": {},
   "outputs": [],
   "source": [
    "target = 23\n",
    "\n",
    "# Drop nulls in target\n",
    "df = df[~df[target].isnull()]\n",
    "\n",
    "# Separe dataset\n",
    "y = df[target]\n",
    "X = df.drop(target, axis=1)\n",
    "\n",
    "# Impute nulls in X\n",
    "si = SimpleImputer(missing_values=np.nan, strategy='mean')\n",
    "X = pd.DataFrame(si.fit_transform(X))"
   ]
  },
  {
   "cell_type": "markdown",
   "metadata": {},
   "source": [
    "# 3) Train, tune and test a classification model of your choice with crossvalidation. Plot the resulting confusion matrix on the test set, normalising for true values. Show the values F1-Score (macro) and Cohen Kappa Score on the test set."
   ]
  },
  {
   "cell_type": "code",
   "execution_count": 90,
   "metadata": {},
   "outputs": [],
   "source": [
    "# Make Train, Tune and Test sets\n",
    "best_model = {}\n",
    "y_pred_test_model = {}\n",
    "\n",
    "X_train, X_test, y_train, y_test = train_test_split(X, y, random_state=random_state)\n",
    "\n",
    "# model_names = ['dt', 'knn']\n",
    "models = {\n",
    "    'dt' : {\n",
    "        'name' : 'DecisionTree',\n",
    "        'classifier' : DecisionTreeClassifier(),\n",
    "        'param' : {\n",
    "            'max_depth': list(range(2, 11))\n",
    "        }\n",
    "    },\n",
    "    'knn' : {\n",
    "        'name' : 'K-Nearest-Neighbors',\n",
    "        'classifier' : KNeighborsClassifier(),\n",
    "        'param' : {\n",
    "            'n_neighbors': list(range(2, 11)),\n",
    "            'weights' : ['uniform', 'distance']\n",
    "        }\n",
    "    }\n",
    "}\n",
    "\n",
    "for model_name, model_config in models.items():\n",
    "    clf = GridSearchCV(estimator=model_config['classifier'],\n",
    "                       param_grid=model_config['param'],\n",
    "                       cv=5)\n",
    "    # Training and Tune\n",
    "    clf.fit(X_train,y_train)\n",
    "\n",
    "    best_model[model_name] = clf.best_estimator_\n",
    "\n",
    "    # Testing\n",
    "    y_pred_test_model[model_name] = best_model[model_name].predict(X_test)"
   ]
  },
  {
   "cell_type": "code",
   "execution_count": 91,
   "metadata": {},
   "outputs": [
    {
     "data": {
      "text/plain": [
       "<sklearn.metrics._plot.confusion_matrix.ConfusionMatrixDisplay at 0x12e602950>"
      ]
     },
     "execution_count": 91,
     "metadata": {},
     "output_type": "execute_result"
    },
    {
     "data": {
      "image/png": "[encoded data removed]",
      "text/plain": [
       "<Figure size 640x480 with 2 Axes>"
      ]
     },
     "metadata": {},
     "output_type": "display_data"
    }
   ],
   "source": [
    "ConfusionMatrixDisplay(confusion_matrix(y_test, y_pred_test_model['dt'], normalize='true')).plot()\n"
   ]
  },
  {
   "cell_type": "code",
   "execution_count": 92,
   "metadata": {},
   "outputs": [
    {
     "name": "stdout",
     "output_type": "stream",
     "text": [
      "0.5046223617652189\n",
      "0.37238493723849375\n"
     ]
    }
   ],
   "source": [
    "print(f1_score(y_test, y_pred_test_model['dt'], average='macro'))\n",
    "print(cohen_kappa_score(y_test, y_pred_test_model['dt']))"
   ]
  },
  {
   "cell_type": "markdown",
   "metadata": {},
   "source": [
    "# 4) Repeat step 3 with a different classification model."
   ]
  },
  {
   "cell_type": "code",
   "execution_count": 93,
   "metadata": {},
   "outputs": [
    {
     "name": "stdout",
     "output_type": "stream",
     "text": [
      "0.5447785447785448\n",
      "0.3953732912723449\n"
     ]
    },
    {
     "data": {
      "image/png": "[encoded data removed]",
      "text/plain": [
       "<Figure size 640x480 with 2 Axes>"
      ]
     },
     "metadata": {},
     "output_type": "display_data"
    }
   ],
   "source": [
    "ConfusionMatrixDisplay(confusion_matrix(y_test, y_pred_test_model['knn'], normalize='true')).plot()\n",
    "print(f1_score(y_test, y_pred_test_model['knn'], average='macro'))\n",
    "print(cohen_kappa_score(y_test, y_pred_test_model['knn']))"
   ]
  },
  {
   "cell_type": "markdown",
   "metadata": {},
   "source": [
    "# 5) Choose the best model and comment the result."
   ]
  },
  {
   "cell_type": "markdown",
   "metadata": {},
   "source": [
    "Considering F1-score (the higher it is the better balance between precision and recall) and Cohen Kappa Score (the higher it is the better agreement).\n",
    "K-Nearest-Neighbors ha higher values on both and so i would choose it."
   ]
  }
 ],
 "metadata": {
  "kernelspec": {
   "display_name": "Python 3",
   "language": "python",
   "name": "python3"
  },
  "language_info": {
   "codemirror_mode": {
    "name": "ipython",
    "version": 3
   },
   "file_extension": ".py",
   "mimetype": "text/x-python",
   "name": "python",
   "nbconvert_exporter": "python",
   "pygments_lexer": "ipython3",
   "version": "3.11.6"
  }
 },
 "nbformat": 4,
 "nbformat_minor": 2
}
