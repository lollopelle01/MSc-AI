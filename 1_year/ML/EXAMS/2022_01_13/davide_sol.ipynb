{
 "cells": [
  {
   "cell_type": "markdown",
   "metadata": {},
   "source": [
    ". Load the data and explore them, showing size, structure and histograms\n",
    "of numeric data; show the histogram of the frequencies of the class labels, contained in the “language” column ."
   ]
  },
  {
   "cell_type": "code",
   "execution_count": 118,
   "metadata": {},
   "outputs": [],
   "source": [
    "from sklearn.model_selection import ParameterGrid\n",
    "from sklearn.feature_selection import SelectKBest\n",
    "import numpy as np\n",
    "import seaborn as sns\n",
    "import pandas as pd\n",
    "from matplotlib import pyplot as plt\n",
    "%matplotlib inline\n",
    "\n",
    "random_state = 42  # set in order to guarantee repetability of results\n",
    "data_url1 = 'exam2022_01_13.csv'\n",
    "sep1 = ','\n",
    "df0 = pd.read_csv(data_url1, sep=sep1)"
   ]
  },
  {
   "cell_type": "code",
   "execution_count": 119,
   "metadata": {},
   "outputs": [
    {
     "data": {
      "text/html": [
       "<div>\n",
       "<style scoped>\n",
       "    .dataframe tbody tr th:only-of-type {\n",
       "        vertical-align: middle;\n",
       "    }\n",
       "\n",
       "    .dataframe tbody tr th {\n",
       "        vertical-align: top;\n",
       "    }\n",
       "\n",
       "    .dataframe thead th {\n",
       "        text-align: right;\n",
       "    }\n",
       "</style>\n",
       "<table border=\"1\" class=\"dataframe\">\n",
       "  <thead>\n",
       "    <tr style=\"text-align: right;\">\n",
       "      <th></th>\n",
       "      <th>X1</th>\n",
       "      <th>X2</th>\n",
       "      <th>X3</th>\n",
       "      <th>X4</th>\n",
       "      <th>X5</th>\n",
       "      <th>X6</th>\n",
       "      <th>X7</th>\n",
       "      <th>X8</th>\n",
       "      <th>X9</th>\n",
       "      <th>X10</th>\n",
       "      <th>X11</th>\n",
       "      <th>X12</th>\n",
       "    </tr>\n",
       "  </thead>\n",
       "  <tbody>\n",
       "    <tr>\n",
       "      <th>count</th>\n",
       "      <td>329.000000</td>\n",
       "      <td>329.000000</td>\n",
       "      <td>329.000000</td>\n",
       "      <td>329.000000</td>\n",
       "      <td>329.000000</td>\n",
       "      <td>329.000000</td>\n",
       "      <td>329.000000</td>\n",
       "      <td>329.000000</td>\n",
       "      <td>329.000000</td>\n",
       "      <td>321.000000</td>\n",
       "      <td>329.000000</td>\n",
       "      <td>329.000000</td>\n",
       "    </tr>\n",
       "    <tr>\n",
       "      <th>mean</th>\n",
       "      <td>5.645227</td>\n",
       "      <td>-4.270814</td>\n",
       "      <td>2.635319</td>\n",
       "      <td>7.200207</td>\n",
       "      <td>-5.648733</td>\n",
       "      <td>9.810236</td>\n",
       "      <td>-9.408053</td>\n",
       "      <td>5.117328</td>\n",
       "      <td>-1.229432</td>\n",
       "      <td>-2.411215</td>\n",
       "      <td>2.430833</td>\n",
       "      <td>-3.980415</td>\n",
       "    </tr>\n",
       "    <tr>\n",
       "      <th>std</th>\n",
       "      <td>5.105302</td>\n",
       "      <td>3.514350</td>\n",
       "      <td>3.635323</td>\n",
       "      <td>4.310095</td>\n",
       "      <td>4.596180</td>\n",
       "      <td>3.624654</td>\n",
       "      <td>2.484117</td>\n",
       "      <td>2.650608</td>\n",
       "      <td>3.634849</td>\n",
       "      <td>5.027840</td>\n",
       "      <td>3.478467</td>\n",
       "      <td>2.985879</td>\n",
       "    </tr>\n",
       "    <tr>\n",
       "      <th>min</th>\n",
       "      <td>-6.067831</td>\n",
       "      <td>-14.972962</td>\n",
       "      <td>-6.186583</td>\n",
       "      <td>-8.844231</td>\n",
       "      <td>-15.656596</td>\n",
       "      <td>-3.528964</td>\n",
       "      <td>-15.365665</td>\n",
       "      <td>-2.873862</td>\n",
       "      <td>-15.510974</td>\n",
       "      <td>-11.429178</td>\n",
       "      <td>-13.664104</td>\n",
       "      <td>-13.724103</td>\n",
       "    </tr>\n",
       "    <tr>\n",
       "      <th>25%</th>\n",
       "      <td>2.065603</td>\n",
       "      <td>-6.515764</td>\n",
       "      <td>0.137042</td>\n",
       "      <td>4.700874</td>\n",
       "      <td>-8.417684</td>\n",
       "      <td>8.643563</td>\n",
       "      <td>-11.120860</td>\n",
       "      <td>3.482167</td>\n",
       "      <td>-1.749082</td>\n",
       "      <td>-5.090180</td>\n",
       "      <td>1.197789</td>\n",
       "      <td>-5.941409</td>\n",
       "    </tr>\n",
       "    <tr>\n",
       "      <th>50%</th>\n",
       "      <td>4.954206</td>\n",
       "      <td>-4.252512</td>\n",
       "      <td>2.029268</td>\n",
       "      <td>7.804680</td>\n",
       "      <td>-6.786670</td>\n",
       "      <td>10.379330</td>\n",
       "      <td>-9.710399</td>\n",
       "      <td>4.843103</td>\n",
       "      <td>-0.389970</td>\n",
       "      <td>-3.327718</td>\n",
       "      <td>3.169703</td>\n",
       "      <td>-4.374334</td>\n",
       "    </tr>\n",
       "    <tr>\n",
       "      <th>75%</th>\n",
       "      <td>9.793648</td>\n",
       "      <td>-1.560250</td>\n",
       "      <td>4.178026</td>\n",
       "      <td>10.129165</td>\n",
       "      <td>-4.463308</td>\n",
       "      <td>11.784360</td>\n",
       "      <td>-7.989370</td>\n",
       "      <td>6.588931</td>\n",
       "      <td>0.779993</td>\n",
       "      <td>-1.512083</td>\n",
       "      <td>4.673452</td>\n",
       "      <td>-2.191658</td>\n",
       "    </tr>\n",
       "    <tr>\n",
       "      <th>max</th>\n",
       "      <td>17.749851</td>\n",
       "      <td>3.570765</td>\n",
       "      <td>17.066487</td>\n",
       "      <td>16.178942</td>\n",
       "      <td>7.912809</td>\n",
       "      <td>21.445837</td>\n",
       "      <td>-0.424033</td>\n",
       "      <td>13.846083</td>\n",
       "      <td>4.789989</td>\n",
       "      <td>16.326455</td>\n",
       "      <td>9.166066</td>\n",
       "      <td>5.259430</td>\n",
       "    </tr>\n",
       "  </tbody>\n",
       "</table>\n",
       "</div>"
      ],
      "text/plain": [
       "               X1          X2          X3          X4          X5          X6  \\\n",
       "count  329.000000  329.000000  329.000000  329.000000  329.000000  329.000000   \n",
       "mean     5.645227   -4.270814    2.635319    7.200207   -5.648733    9.810236   \n",
       "std      5.105302    3.514350    3.635323    4.310095    4.596180    3.624654   \n",
       "min     -6.067831  -14.972962   -6.186583   -8.844231  -15.656596   -3.528964   \n",
       "25%      2.065603   -6.515764    0.137042    4.700874   -8.417684    8.643563   \n",
       "50%      4.954206   -4.252512    2.029268    7.804680   -6.786670   10.379330   \n",
       "75%      9.793648   -1.560250    4.178026   10.129165   -4.463308   11.784360   \n",
       "max     17.749851    3.570765   17.066487   16.178942    7.912809   21.445837   \n",
       "\n",
       "               X7          X8          X9         X10         X11         X12  \n",
       "count  329.000000  329.000000  329.000000  321.000000  329.000000  329.000000  \n",
       "mean    -9.408053    5.117328   -1.229432   -2.411215    2.430833   -3.980415  \n",
       "std      2.484117    2.650608    3.634849    5.027840    3.478467    2.985879  \n",
       "min    -15.365665   -2.873862  -15.510974  -11.429178  -13.664104  -13.724103  \n",
       "25%    -11.120860    3.482167   -1.749082   -5.090180    1.197789   -5.941409  \n",
       "50%     -9.710399    4.843103   -0.389970   -3.327718    3.169703   -4.374334  \n",
       "75%     -7.989370    6.588931    0.779993   -1.512083    4.673452   -2.191658  \n",
       "max     -0.424033   13.846083    4.789989   16.326455    9.166066    5.259430  "
      ]
     },
     "execution_count": 119,
     "metadata": {},
     "output_type": "execute_result"
    }
   ],
   "source": [
    "df0.describe()\n"
   ]
  },
  {
   "cell_type": "code",
   "execution_count": 120,
   "metadata": {},
   "outputs": [
    {
     "data": {
      "text/html": [
       "<div>\n",
       "<style scoped>\n",
       "    .dataframe tbody tr th:only-of-type {\n",
       "        vertical-align: middle;\n",
       "    }\n",
       "\n",
       "    .dataframe tbody tr th {\n",
       "        vertical-align: top;\n",
       "    }\n",
       "\n",
       "    .dataframe thead th {\n",
       "        text-align: right;\n",
       "    }\n",
       "</style>\n",
       "<table border=\"1\" class=\"dataframe\">\n",
       "  <thead>\n",
       "    <tr style=\"text-align: right;\">\n",
       "      <th></th>\n",
       "      <th>language</th>\n",
       "      <th>X1</th>\n",
       "      <th>X2</th>\n",
       "      <th>X3</th>\n",
       "      <th>X4</th>\n",
       "      <th>X5</th>\n",
       "      <th>X6</th>\n",
       "      <th>X7</th>\n",
       "      <th>X8</th>\n",
       "      <th>X9</th>\n",
       "      <th>X10</th>\n",
       "      <th>X11</th>\n",
       "      <th>X12</th>\n",
       "    </tr>\n",
       "  </thead>\n",
       "  <tbody>\n",
       "    <tr>\n",
       "      <th>0</th>\n",
       "      <td>ES</td>\n",
       "      <td>7.071476</td>\n",
       "      <td>-6.512900</td>\n",
       "      <td>7.650800</td>\n",
       "      <td>11.150783</td>\n",
       "      <td>-7.657312</td>\n",
       "      <td>12.484021</td>\n",
       "      <td>-11.709772</td>\n",
       "      <td>3.426596</td>\n",
       "      <td>1.462715</td>\n",
       "      <td>-2.812753</td>\n",
       "      <td>0.866538</td>\n",
       "      <td>-5.244274</td>\n",
       "    </tr>\n",
       "    <tr>\n",
       "      <th>1</th>\n",
       "      <td>ES</td>\n",
       "      <td>10.982967</td>\n",
       "      <td>-5.157445</td>\n",
       "      <td>3.952060</td>\n",
       "      <td>11.529381</td>\n",
       "      <td>-7.638047</td>\n",
       "      <td>12.136098</td>\n",
       "      <td>-12.036247</td>\n",
       "      <td>3.491943</td>\n",
       "      <td>0.595441</td>\n",
       "      <td>-4.508811</td>\n",
       "      <td>2.332147</td>\n",
       "      <td>-6.221857</td>\n",
       "    </tr>\n",
       "    <tr>\n",
       "      <th>2</th>\n",
       "      <td>ES</td>\n",
       "      <td>7.827108</td>\n",
       "      <td>-5.477472</td>\n",
       "      <td>7.816257</td>\n",
       "      <td>9.187592</td>\n",
       "      <td>-7.172511</td>\n",
       "      <td>11.715299</td>\n",
       "      <td>-13.847214</td>\n",
       "      <td>4.574075</td>\n",
       "      <td>-1.687559</td>\n",
       "      <td>-7.204041</td>\n",
       "      <td>-0.011847</td>\n",
       "      <td>-6.463144</td>\n",
       "    </tr>\n",
       "    <tr>\n",
       "      <th>3</th>\n",
       "      <td>ES</td>\n",
       "      <td>6.744083</td>\n",
       "      <td>-5.688920</td>\n",
       "      <td>6.546789</td>\n",
       "      <td>9.000183</td>\n",
       "      <td>-6.924963</td>\n",
       "      <td>11.710766</td>\n",
       "      <td>-12.374388</td>\n",
       "      <td>6.169879</td>\n",
       "      <td>-0.544747</td>\n",
       "      <td>-6.019237</td>\n",
       "      <td>1.358559</td>\n",
       "      <td>-6.356441</td>\n",
       "    </tr>\n",
       "    <tr>\n",
       "      <th>4</th>\n",
       "      <td>ES</td>\n",
       "      <td>5.836843</td>\n",
       "      <td>-5.326557</td>\n",
       "      <td>7.472265</td>\n",
       "      <td>8.847440</td>\n",
       "      <td>-6.773244</td>\n",
       "      <td>12.677218</td>\n",
       "      <td>-12.315061</td>\n",
       "      <td>4.416344</td>\n",
       "      <td>0.193500</td>\n",
       "      <td>-3.644812</td>\n",
       "      <td>2.151239</td>\n",
       "      <td>-6.816310</td>\n",
       "    </tr>\n",
       "  </tbody>\n",
       "</table>\n",
       "</div>"
      ],
      "text/plain": [
       "  language         X1        X2        X3         X4        X5         X6  \\\n",
       "0       ES   7.071476 -6.512900  7.650800  11.150783 -7.657312  12.484021   \n",
       "1       ES  10.982967 -5.157445  3.952060  11.529381 -7.638047  12.136098   \n",
       "2       ES   7.827108 -5.477472  7.816257   9.187592 -7.172511  11.715299   \n",
       "3       ES   6.744083 -5.688920  6.546789   9.000183 -6.924963  11.710766   \n",
       "4       ES   5.836843 -5.326557  7.472265   8.847440 -6.773244  12.677218   \n",
       "\n",
       "          X7        X8        X9       X10       X11       X12  \n",
       "0 -11.709772  3.426596  1.462715 -2.812753  0.866538 -5.244274  \n",
       "1 -12.036247  3.491943  0.595441 -4.508811  2.332147 -6.221857  \n",
       "2 -13.847214  4.574075 -1.687559 -7.204041 -0.011847 -6.463144  \n",
       "3 -12.374388  6.169879 -0.544747 -6.019237  1.358559 -6.356441  \n",
       "4 -12.315061  4.416344  0.193500 -3.644812  2.151239 -6.816310  "
      ]
     },
     "execution_count": 120,
     "metadata": {},
     "output_type": "execute_result"
    }
   ],
   "source": [
    "df0.head()"
   ]
  },
  {
   "cell_type": "code",
   "execution_count": 121,
   "metadata": {},
   "outputs": [
    {
     "data": {
      "text/plain": [
       "(329, 13)"
      ]
     },
     "execution_count": 121,
     "metadata": {},
     "output_type": "execute_result"
    }
   ],
   "source": [
    "df0.shape"
   ]
  },
  {
   "cell_type": "code",
   "execution_count": 122,
   "metadata": {},
   "outputs": [
    {
     "data": {
      "image/png": "[encoded data removed]",
      "text/plain": [
       "<Figure size 1000x1000 with 12 Axes>"
      ]
     },
     "metadata": {},
     "output_type": "display_data"
    }
   ],
   "source": [
    "pd.DataFrame.hist(df0,figsize = [10,10])\n",
    "plt.show()"
   ]
  },
  {
   "cell_type": "code",
   "execution_count": 123,
   "metadata": {},
   "outputs": [
    {
     "data": {
      "image/png": "[encoded data removed]",
      "text/plain": [
       "<Figure size 640x480 with 1 Axes>"
      ]
     },
     "metadata": {},
     "output_type": "display_data"
    }
   ],
   "source": [
    "plt.hist(df0['language'])\n",
    "plt.show()"
   ]
  },
  {
   "cell_type": "markdown",
   "metadata": {},
   "source": [
    "Drop the rows with NaN values, if any, show the shape of the dataset\n",
    "after this cleaning ."
   ]
  },
  {
   "cell_type": "code",
   "execution_count": 124,
   "metadata": {},
   "outputs": [
    {
     "name": "stdout",
     "output_type": "stream",
     "text": [
      "shape after dropping: (321, 12). Number or rows deleted: 0\n"
     ]
    }
   ],
   "source": [
    "df0 = df0.dropna(axis=0)\n",
    "X = df0.drop(columns=['language'], axis=1)\n",
    "y = df0['language']\n",
    "print(\"shape after dropping: {}. Number or rows deleted: {}\".format(X.shape, df0.shape[0] - df.shape[0]))"
   ]
  },
  {
   "cell_type": "markdown",
   "metadata": {},
   "source": [
    "tune the hyper–parameters of Model1 with Cross Validation on the\n",
    "training set, optimize for recall_macro . ."
   ]
  },
  {
   "cell_type": "code",
   "execution_count": 125,
   "metadata": {},
   "outputs": [
    {
     "name": "stdout",
     "output_type": "stream",
     "text": [
      "There are 211 samples in the training dataset\n",
      "There are 110 samples in the testing dataset\n",
      "Each sample has 12 features\n"
     ]
    }
   ],
   "source": [
    "# Split in Train and Test set\n",
    "from sklearn.model_selection import train_test_split\n",
    "X_train, X_test, y_train, y_test = train_test_split(X, y\n",
    "                                                    , train_size = 0.66\n",
    "                                                    , random_state = random_state) # default Train 0.75- Test 0.25\n",
    "print(\"There are {} samples in the training dataset\".format(X_train.shape[0]))\n",
    "print(\"There are {} samples in the testing dataset\".format(X_test.shape[0]))\n",
    "print(\"Each sample has {} features\".format(X_train.shape[1]))"
   ]
  },
  {
   "cell_type": "code",
   "execution_count": 126,
   "metadata": {},
   "outputs": [
    {
     "name": "stdout",
     "output_type": "stream",
     "text": [
      "best parameter estimator : {'max_depth': 17}\n",
      "best score for recall:  0.6686507936507935\n",
      "\n"
     ]
    }
   ],
   "source": [
    "# I test the Model 1 for the treeClassifier without setting the parameter\n",
    "\n",
    "from sklearn import tree\n",
    "from sklearn.metrics import accuracy_score, classification_report, confusion_matrix\n",
    "from sklearn.model_selection import GridSearchCV\n",
    "\n",
    "\n",
    "estimator = tree.DecisionTreeClassifier()\n",
    "clf = GridSearchCV(estimator, [{'max_depth': [*range(1, 20)]}], cv=5,\n",
    "                   scoring='recall_macro',\n",
    "                   return_train_score=False,\n",
    "                   n_jobs=2,  # this allows using multi-cores\n",
    "                   )\n",
    "\n",
    "clf.fit(X_train, y_train)\n",
    "print(\"best parameter estimator :\", clf.best_params_)\n",
    "print(\"best score for recall: \", clf.best_score_)\n",
    "print()\n"
   ]
  },
  {
   "cell_type": "code",
   "execution_count": 137,
   "metadata": {},
   "outputs": [
    {
     "data": {
      "text/html": [
       "<div>\n",
       "<style scoped>\n",
       "    .dataframe tbody tr th:only-of-type {\n",
       "        vertical-align: middle;\n",
       "    }\n",
       "\n",
       "    .dataframe tbody tr th {\n",
       "        vertical-align: top;\n",
       "    }\n",
       "\n",
       "    .dataframe thead th {\n",
       "        text-align: right;\n",
       "    }\n",
       "</style>\n",
       "<table border=\"1\" class=\"dataframe\">\n",
       "  <thead>\n",
       "    <tr style=\"text-align: right;\">\n",
       "      <th></th>\n",
       "      <th>params</th>\n",
       "      <th>mean_test_score</th>\n",
       "    </tr>\n",
       "  </thead>\n",
       "  <tbody>\n",
       "    <tr>\n",
       "      <th>0</th>\n",
       "      <td>{'max_depth': 1}</td>\n",
       "      <td>0.278968</td>\n",
       "    </tr>\n",
       "    <tr>\n",
       "      <th>1</th>\n",
       "      <td>{'max_depth': 2}</td>\n",
       "      <td>0.307937</td>\n",
       "    </tr>\n",
       "    <tr>\n",
       "      <th>2</th>\n",
       "      <td>{'max_depth': 3}</td>\n",
       "      <td>0.398413</td>\n",
       "    </tr>\n",
       "    <tr>\n",
       "      <th>3</th>\n",
       "      <td>{'max_depth': 4}</td>\n",
       "      <td>0.421032</td>\n",
       "    </tr>\n",
       "    <tr>\n",
       "      <th>4</th>\n",
       "      <td>{'max_depth': 5}</td>\n",
       "      <td>0.560714</td>\n",
       "    </tr>\n",
       "    <tr>\n",
       "      <th>5</th>\n",
       "      <td>{'max_depth': 6}</td>\n",
       "      <td>0.579762</td>\n",
       "    </tr>\n",
       "    <tr>\n",
       "      <th>6</th>\n",
       "      <td>{'max_depth': 7}</td>\n",
       "      <td>0.596825</td>\n",
       "    </tr>\n",
       "    <tr>\n",
       "      <th>7</th>\n",
       "      <td>{'max_depth': 8}</td>\n",
       "      <td>0.590873</td>\n",
       "    </tr>\n",
       "    <tr>\n",
       "      <th>8</th>\n",
       "      <td>{'max_depth': 9}</td>\n",
       "      <td>0.651587</td>\n",
       "    </tr>\n",
       "    <tr>\n",
       "      <th>9</th>\n",
       "      <td>{'max_depth': 10}</td>\n",
       "      <td>0.604762</td>\n",
       "    </tr>\n",
       "    <tr>\n",
       "      <th>10</th>\n",
       "      <td>{'max_depth': 11}</td>\n",
       "      <td>0.620238</td>\n",
       "    </tr>\n",
       "    <tr>\n",
       "      <th>11</th>\n",
       "      <td>{'max_depth': 12}</td>\n",
       "      <td>0.626984</td>\n",
       "    </tr>\n",
       "    <tr>\n",
       "      <th>12</th>\n",
       "      <td>{'max_depth': 13}</td>\n",
       "      <td>0.608333</td>\n",
       "    </tr>\n",
       "    <tr>\n",
       "      <th>13</th>\n",
       "      <td>{'max_depth': 14}</td>\n",
       "      <td>0.601587</td>\n",
       "    </tr>\n",
       "    <tr>\n",
       "      <th>14</th>\n",
       "      <td>{'max_depth': 15}</td>\n",
       "      <td>0.611111</td>\n",
       "    </tr>\n",
       "    <tr>\n",
       "      <th>15</th>\n",
       "      <td>{'max_depth': 16}</td>\n",
       "      <td>0.612302</td>\n",
       "    </tr>\n",
       "    <tr>\n",
       "      <th>16</th>\n",
       "      <td>{'max_depth': 17}</td>\n",
       "      <td>0.668651</td>\n",
       "    </tr>\n",
       "    <tr>\n",
       "      <th>17</th>\n",
       "      <td>{'max_depth': 18}</td>\n",
       "      <td>0.578571</td>\n",
       "    </tr>\n",
       "    <tr>\n",
       "      <th>18</th>\n",
       "      <td>{'max_depth': 19}</td>\n",
       "      <td>0.631349</td>\n",
       "    </tr>\n",
       "  </tbody>\n",
       "</table>\n",
       "</div>"
      ],
      "text/plain": [
       "               params  mean_test_score\n",
       "0    {'max_depth': 1}         0.278968\n",
       "1    {'max_depth': 2}         0.307937\n",
       "2    {'max_depth': 3}         0.398413\n",
       "3    {'max_depth': 4}         0.421032\n",
       "4    {'max_depth': 5}         0.560714\n",
       "5    {'max_depth': 6}         0.579762\n",
       "6    {'max_depth': 7}         0.596825\n",
       "7    {'max_depth': 8}         0.590873\n",
       "8    {'max_depth': 9}         0.651587\n",
       "9   {'max_depth': 10}         0.604762\n",
       "10  {'max_depth': 11}         0.620238\n",
       "11  {'max_depth': 12}         0.626984\n",
       "12  {'max_depth': 13}         0.608333\n",
       "13  {'max_depth': 14}         0.601587\n",
       "14  {'max_depth': 15}         0.611111\n",
       "15  {'max_depth': 16}         0.612302\n",
       "16  {'max_depth': 17}         0.668651\n",
       "17  {'max_depth': 18}         0.578571\n",
       "18  {'max_depth': 19}         0.631349"
      ]
     },
     "execution_count": 137,
     "metadata": {},
     "output_type": "execute_result"
    }
   ],
   "source": [
    "results = pd.DataFrame(clf.cv_results_)\n",
    "results[['params','mean_test_score']]"
   ]
  },
  {
   "cell_type": "markdown",
   "metadata": {},
   "source": [
    "produce a classification report for Model1 on the test set"
   ]
  },
  {
   "cell_type": "code",
   "execution_count": 128,
   "metadata": {},
   "outputs": [
    {
     "name": "stdout",
     "output_type": "stream",
     "text": [
      "              precision    recall  f1-score   support\n",
      "\n",
      "          ES       0.57      0.73      0.64        11\n",
      "          FR       0.58      0.70      0.64        10\n",
      "          GE       0.50      0.33      0.40        12\n",
      "          IT       0.58      0.58      0.58        12\n",
      "          UK       0.57      0.62      0.59        13\n",
      "          US       0.78      0.75      0.76        52\n",
      "\n",
      "    accuracy                           0.66       110\n",
      "   macro avg       0.60      0.62      0.60       110\n",
      "weighted avg       0.66      0.66      0.66       110\n",
      "\n"
     ]
    }
   ],
   "source": [
    "from sklearn.metrics import classification_report\n",
    "y_true, y_pred = y_test, clf.predict(X_test)\n",
    "print(classification_report(y_true, y_pred))"
   ]
  },
  {
   "cell_type": "markdown",
   "metadata": {},
   "source": [
    " produce the confusion matrix for Model1 on the test set . ."
   ]
  },
  {
   "cell_type": "code",
   "execution_count": 129,
   "metadata": {},
   "outputs": [
    {
     "name": "stdout",
     "output_type": "stream",
     "text": [
      "Here we can see some important information, combined with the previous f1 score, recall and precision.\n",
      "[[ 8  0  0  0  0  3]\n",
      " [ 2  7  0  1  0  0]\n",
      " [ 0  1  4  3  0  4]\n",
      " [ 0  0  1  7  2  2]\n",
      " [ 0  1  2  0  8  2]\n",
      " [ 4  3  1  1  4 39]]\n",
      "\n",
      "[[0.07272727 0.         0.         0.         0.         0.02727273]\n",
      " [0.01818182 0.06363636 0.         0.00909091 0.         0.        ]\n",
      " [0.         0.00909091 0.03636364 0.02727273 0.         0.03636364]\n",
      " [0.         0.         0.00909091 0.06363636 0.01818182 0.01818182]\n",
      " [0.         0.00909091 0.01818182 0.         0.07272727 0.01818182]\n",
      " [0.03636364 0.02727273 0.00909091 0.00909091 0.03636364 0.35454545]]\n"
     ]
    },
    {
     "name": "stderr",
     "output_type": "stream",
     "text": [
      "c:\\Users\\david\\AppData\\Local\\Programs\\Python\\Python38-32\\lib\\site-packages\\sklearn\\utils\\deprecation.py:87: FutureWarning: Function plot_confusion_matrix is deprecated; Function `plot_confusion_matrix` is deprecated in 1.0 and will be removed in 1.2. Use one of the class methods: ConfusionMatrixDisplay.from_predictions or ConfusionMatrixDisplay.from_estimator.\n",
      "  warnings.warn(msg, category=FutureWarning)\n"
     ]
    },
    {
     "data": {
      "image/png": "[encoded data removed]",
      "text/plain": [
       "<Figure size 640x480 with 2 Axes>"
      ]
     },
     "metadata": {},
     "output_type": "display_data"
    }
   ],
   "source": [
    "from sklearn.metrics import plot_confusion_matrix\n",
    "\n",
    "plot_confusion_matrix(clf.best_estimator_, X_test, y_true)\n",
    "print('Here we can see some important information, combined with the previous f1 score, recall and precision.')\n",
    "\n",
    "conf = confusion_matrix(y_test, y_pred)\n",
    "print(conf)\n",
    "print()\n",
    "print(conf/conf.sum())"
   ]
  },
  {
   "cell_type": "markdown",
   "metadata": {},
   "source": [
    "tune the hyper–parameters of Model2 with Cross Validation on the\n",
    "training set, optimize for recall_macro . . ."
   ]
  },
  {
   "cell_type": "code",
   "execution_count": 130,
   "metadata": {},
   "outputs": [
    {
     "name": "stdout",
     "output_type": "stream",
     "text": [
      "best parameter estimator : {'n_neighbors': 2}\n",
      "best score for recall:  0.7424603174603175\n",
      "\n"
     ]
    }
   ],
   "source": [
    "from sklearn.neighbors import KNeighborsClassifier\n",
    "\n",
    "estimator2 = KNeighborsClassifier()\n",
    "clf2 = GridSearchCV(estimator2, [{'n_neighbors': [1, 2, 3, 4, 5, 6, 7, 8, 9, 10]}], cv=5,\n",
    "                   scoring='recall_macro',\n",
    "                   return_train_score=False,\n",
    "                   n_jobs=2,  # this allows using multi-cores\n",
    "                   )\n",
    "\n",
    "clf2.fit(X_train, y_train)\n",
    "print(\"best parameter estimator :\", clf2.best_params_)\n",
    "print(\"best score for recall: \", clf2.best_score_)\n",
    "print()"
   ]
  },
  {
   "cell_type": "code",
   "execution_count": 136,
   "metadata": {},
   "outputs": [
    {
     "data": {
      "text/html": [
       "<div>\n",
       "<style scoped>\n",
       "    .dataframe tbody tr th:only-of-type {\n",
       "        vertical-align: middle;\n",
       "    }\n",
       "\n",
       "    .dataframe tbody tr th {\n",
       "        vertical-align: top;\n",
       "    }\n",
       "\n",
       "    .dataframe thead th {\n",
       "        text-align: right;\n",
       "    }\n",
       "</style>\n",
       "<table border=\"1\" class=\"dataframe\">\n",
       "  <thead>\n",
       "    <tr style=\"text-align: right;\">\n",
       "      <th></th>\n",
       "      <th>params</th>\n",
       "      <th>mean_test_score</th>\n",
       "    </tr>\n",
       "  </thead>\n",
       "  <tbody>\n",
       "    <tr>\n",
       "      <th>0</th>\n",
       "      <td>{'n_neighbors': 1}</td>\n",
       "      <td>0.732540</td>\n",
       "    </tr>\n",
       "    <tr>\n",
       "      <th>1</th>\n",
       "      <td>{'n_neighbors': 2}</td>\n",
       "      <td>0.742460</td>\n",
       "    </tr>\n",
       "    <tr>\n",
       "      <th>2</th>\n",
       "      <td>{'n_neighbors': 3}</td>\n",
       "      <td>0.739286</td>\n",
       "    </tr>\n",
       "    <tr>\n",
       "      <th>3</th>\n",
       "      <td>{'n_neighbors': 4}</td>\n",
       "      <td>0.695238</td>\n",
       "    </tr>\n",
       "    <tr>\n",
       "      <th>4</th>\n",
       "      <td>{'n_neighbors': 5}</td>\n",
       "      <td>0.694444</td>\n",
       "    </tr>\n",
       "    <tr>\n",
       "      <th>5</th>\n",
       "      <td>{'n_neighbors': 6}</td>\n",
       "      <td>0.704365</td>\n",
       "    </tr>\n",
       "    <tr>\n",
       "      <th>6</th>\n",
       "      <td>{'n_neighbors': 7}</td>\n",
       "      <td>0.651587</td>\n",
       "    </tr>\n",
       "    <tr>\n",
       "      <th>7</th>\n",
       "      <td>{'n_neighbors': 8}</td>\n",
       "      <td>0.673413</td>\n",
       "    </tr>\n",
       "    <tr>\n",
       "      <th>8</th>\n",
       "      <td>{'n_neighbors': 9}</td>\n",
       "      <td>0.655952</td>\n",
       "    </tr>\n",
       "    <tr>\n",
       "      <th>9</th>\n",
       "      <td>{'n_neighbors': 10}</td>\n",
       "      <td>0.625794</td>\n",
       "    </tr>\n",
       "  </tbody>\n",
       "</table>\n",
       "</div>"
      ],
      "text/plain": [
       "                params  mean_test_score\n",
       "0   {'n_neighbors': 1}         0.732540\n",
       "1   {'n_neighbors': 2}         0.742460\n",
       "2   {'n_neighbors': 3}         0.739286\n",
       "3   {'n_neighbors': 4}         0.695238\n",
       "4   {'n_neighbors': 5}         0.694444\n",
       "5   {'n_neighbors': 6}         0.704365\n",
       "6   {'n_neighbors': 7}         0.651587\n",
       "7   {'n_neighbors': 8}         0.673413\n",
       "8   {'n_neighbors': 9}         0.655952\n",
       "9  {'n_neighbors': 10}         0.625794"
      ]
     },
     "execution_count": 136,
     "metadata": {},
     "output_type": "execute_result"
    }
   ],
   "source": [
    "results2 = pd.DataFrame(clf2.cv_results_)\n",
    "results2[['params','mean_test_score']]"
   ]
  },
  {
   "cell_type": "markdown",
   "metadata": {},
   "source": [
    "produce a classification report for Model2 on the test set"
   ]
  },
  {
   "cell_type": "code",
   "execution_count": 138,
   "metadata": {},
   "outputs": [
    {
     "name": "stdout",
     "output_type": "stream",
     "text": [
      "              precision    recall  f1-score   support\n",
      "\n",
      "          ES       0.83      0.91      0.87        11\n",
      "          FR       0.62      1.00      0.77        10\n",
      "          GE       0.53      0.75      0.62        12\n",
      "          IT       0.67      0.50      0.57        12\n",
      "          UK       0.60      0.69      0.64        13\n",
      "          US       0.98      0.77      0.86        52\n",
      "\n",
      "    accuracy                           0.76       110\n",
      "   macro avg       0.71      0.77      0.72       110\n",
      "weighted avg       0.80      0.76      0.77       110\n",
      "\n"
     ]
    }
   ],
   "source": [
    "y_true, y_pred2 = y_test, clf2.predict(X_test)\n",
    "print(classification_report(y_true, y_pred2))"
   ]
  },
  {
   "cell_type": "markdown",
   "metadata": {},
   "source": [
    "produce the confusion matrix for Model2 on the test set ."
   ]
  },
  {
   "cell_type": "code",
   "execution_count": 140,
   "metadata": {},
   "outputs": [
    {
     "name": "stderr",
     "output_type": "stream",
     "text": [
      "c:\\Users\\david\\AppData\\Local\\Programs\\Python\\Python38-32\\lib\\site-packages\\sklearn\\utils\\deprecation.py:87: FutureWarning: Function plot_confusion_matrix is deprecated; Function `plot_confusion_matrix` is deprecated in 1.0 and will be removed in 1.2. Use one of the class methods: ConfusionMatrixDisplay.from_predictions or ConfusionMatrixDisplay.from_estimator.\n",
      "  warnings.warn(msg, category=FutureWarning)\n"
     ]
    },
    {
     "name": "stdout",
     "output_type": "stream",
     "text": [
      "Here we can see some important information, combined with the previous f1 score, recall and precision.\n",
      "[[10  0  0  0  0  1]\n",
      " [ 0 10  0  0  0  0]\n",
      " [ 0  0  9  2  1  0]\n",
      " [ 0  0  5  6  1  0]\n",
      " [ 0  2  1  1  9  0]\n",
      " [ 2  4  2  0  4 40]]\n",
      "\n",
      "[[0.09090909 0.         0.         0.         0.         0.00909091]\n",
      " [0.         0.09090909 0.         0.         0.         0.        ]\n",
      " [0.         0.         0.08181818 0.01818182 0.00909091 0.        ]\n",
      " [0.         0.         0.04545455 0.05454545 0.00909091 0.        ]\n",
      " [0.         0.01818182 0.00909091 0.00909091 0.08181818 0.        ]\n",
      " [0.01818182 0.03636364 0.01818182 0.         0.03636364 0.36363636]]\n"
     ]
    },
    {
     "data": {
      "image/png": "[encoded data removed]",
      "text/plain": [
       "<Figure size 640x480 with 2 Axes>"
      ]
     },
     "metadata": {},
     "output_type": "display_data"
    }
   ],
   "source": [
    "plot_confusion_matrix(clf2.best_estimator_, X_test, y_true)\n",
    "print('Here we can see some important information, combined with the previous f1 score, recall and precision.')\n",
    "\n",
    "conf2 = confusion_matrix(y_test, y_pred2)\n",
    "print(conf2)\n",
    "print()\n",
    "print(conf2/conf2.sum())"
   ]
  }
 ],
 "metadata": {
  "kernelspec": {
   "display_name": "Python 3.8.5 32-bit",
   "language": "python",
   "name": "python3"
  },
  "language_info": {
   "codemirror_mode": {
    "name": "ipython",
    "version": 3
   },
   "file_extension": ".py",
   "mimetype": "text/x-python",
   "name": "python",
   "nbconvert_exporter": "python",
   "pygments_lexer": "ipython3",
   "version": "3.8.5"
  },
  "orig_nbformat": 4,
  "vscode": {
   "interpreter": {
    "hash": "54883a7121a713d77125f1e58771414b12d9415a58e298846e2d0c0165565864"
   }
  }
 },
 "nbformat": 4,
 "nbformat_minor": 2
}
