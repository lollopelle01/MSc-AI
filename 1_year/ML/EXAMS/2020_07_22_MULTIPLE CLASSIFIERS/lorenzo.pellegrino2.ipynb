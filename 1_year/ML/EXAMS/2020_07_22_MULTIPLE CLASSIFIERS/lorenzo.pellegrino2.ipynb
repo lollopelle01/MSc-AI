{
 "cells": [
  {
   "cell_type": "markdown",
   "metadata": {},
   "source": [
    "# 1) The data are split in two files, load the files and merge them according to the first column, which is the index; both the files contain a \"class\" column, keep both the columns in the merged file calling them \"class_x\" and \"class_y\" (you can use the merge function of pandas dataframes)"
   ]
  },
  {
   "cell_type": "code",
   "execution_count": 22,
   "metadata": {},
   "outputs": [
    {
     "data": {
      "text/html": [
       "<div>\n",
       "<style scoped>\n",
       "    .dataframe tbody tr th:only-of-type {\n",
       "        vertical-align: middle;\n",
       "    }\n",
       "\n",
       "    .dataframe tbody tr th {\n",
       "        vertical-align: top;\n",
       "    }\n",
       "\n",
       "    .dataframe thead th {\n",
       "        text-align: right;\n",
       "    }\n",
       "</style>\n",
       "<table border=\"1\" class=\"dataframe\">\n",
       "  <thead>\n",
       "    <tr style=\"text-align: right;\">\n",
       "      <th></th>\n",
       "      <th>Unnamed: 0</th>\n",
       "      <th>A</th>\n",
       "      <th>C</th>\n",
       "      <th>E</th>\n",
       "      <th>class_x</th>\n",
       "    </tr>\n",
       "  </thead>\n",
       "  <tbody>\n",
       "    <tr>\n",
       "      <th>0</th>\n",
       "      <td>0</td>\n",
       "      <td>-0.386248</td>\n",
       "      <td>1.536628</td>\n",
       "      <td>1.232589</td>\n",
       "      <td>1</td>\n",
       "    </tr>\n",
       "    <tr>\n",
       "      <th>1</th>\n",
       "      <td>1</td>\n",
       "      <td>-2.686649</td>\n",
       "      <td>4.640702</td>\n",
       "      <td>0.823433</td>\n",
       "      <td>1</td>\n",
       "    </tr>\n",
       "    <tr>\n",
       "      <th>2</th>\n",
       "      <td>2</td>\n",
       "      <td>0.474124</td>\n",
       "      <td>1.576616</td>\n",
       "      <td>-1.256234</td>\n",
       "      <td>0</td>\n",
       "    </tr>\n",
       "    <tr>\n",
       "      <th>3</th>\n",
       "      <td>3</td>\n",
       "      <td>-1.343790</td>\n",
       "      <td>-0.514008</td>\n",
       "      <td>1.520392</td>\n",
       "      <td>2</td>\n",
       "    </tr>\n",
       "    <tr>\n",
       "      <th>4</th>\n",
       "      <td>4</td>\n",
       "      <td>-2.187600</td>\n",
       "      <td>0.289041</td>\n",
       "      <td>1.318321</td>\n",
       "      <td>2</td>\n",
       "    </tr>\n",
       "  </tbody>\n",
       "</table>\n",
       "</div>"
      ],
      "text/plain": [
       "   Unnamed: 0         A         C         E  class_x\n",
       "0           0 -0.386248  1.536628  1.232589        1\n",
       "1           1 -2.686649  4.640702  0.823433        1\n",
       "2           2  0.474124  1.576616 -1.256234        0\n",
       "3           3 -1.343790 -0.514008  1.520392        2\n",
       "4           4 -2.187600  0.289041  1.318321        2"
      ]
     },
     "metadata": {},
     "output_type": "display_data"
    },
    {
     "data": {
      "text/html": [
       "<div>\n",
       "<style scoped>\n",
       "    .dataframe tbody tr th:only-of-type {\n",
       "        vertical-align: middle;\n",
       "    }\n",
       "\n",
       "    .dataframe tbody tr th {\n",
       "        vertical-align: top;\n",
       "    }\n",
       "\n",
       "    .dataframe thead th {\n",
       "        text-align: right;\n",
       "    }\n",
       "</style>\n",
       "<table border=\"1\" class=\"dataframe\">\n",
       "  <thead>\n",
       "    <tr style=\"text-align: right;\">\n",
       "      <th></th>\n",
       "      <th>Unnamed: 0</th>\n",
       "      <th>B</th>\n",
       "      <th>D</th>\n",
       "      <th>F</th>\n",
       "      <th>class_y</th>\n",
       "    </tr>\n",
       "  </thead>\n",
       "  <tbody>\n",
       "    <tr>\n",
       "      <th>0</th>\n",
       "      <td>0</td>\n",
       "      <td>-1.432057</td>\n",
       "      <td>1.039420</td>\n",
       "      <td>0.280469</td>\n",
       "      <td>1</td>\n",
       "    </tr>\n",
       "    <tr>\n",
       "      <th>1</th>\n",
       "      <td>1</td>\n",
       "      <td>-4.036329</td>\n",
       "      <td>0.526320</td>\n",
       "      <td>-0.419013</td>\n",
       "      <td>1</td>\n",
       "    </tr>\n",
       "    <tr>\n",
       "      <th>2</th>\n",
       "      <td>2</td>\n",
       "      <td>0.179770</td>\n",
       "      <td>0.157974</td>\n",
       "      <td>-0.162869</td>\n",
       "      <td>0</td>\n",
       "    </tr>\n",
       "    <tr>\n",
       "      <th>3</th>\n",
       "      <td>3</td>\n",
       "      <td>-1.299109</td>\n",
       "      <td>-0.152250</td>\n",
       "      <td>0.045123</td>\n",
       "      <td>2</td>\n",
       "    </tr>\n",
       "    <tr>\n",
       "      <th>4</th>\n",
       "      <td>4</td>\n",
       "      <td>-2.089699</td>\n",
       "      <td>-0.494995</td>\n",
       "      <td>-0.661858</td>\n",
       "      <td>2</td>\n",
       "    </tr>\n",
       "  </tbody>\n",
       "</table>\n",
       "</div>"
      ],
      "text/plain": [
       "   Unnamed: 0         B         D         F  class_y\n",
       "0           0 -1.432057  1.039420  0.280469        1\n",
       "1           1 -4.036329  0.526320 -0.419013        1\n",
       "2           2  0.179770  0.157974 -0.162869        0\n",
       "3           3 -1.299109 -0.152250  0.045123        2\n",
       "4           4 -2.089699 -0.494995 -0.661858        2"
      ]
     },
     "metadata": {},
     "output_type": "display_data"
    },
    {
     "data": {
      "text/html": [
       "<div>\n",
       "<style scoped>\n",
       "    .dataframe tbody tr th:only-of-type {\n",
       "        vertical-align: middle;\n",
       "    }\n",
       "\n",
       "    .dataframe tbody tr th {\n",
       "        vertical-align: top;\n",
       "    }\n",
       "\n",
       "    .dataframe thead th {\n",
       "        text-align: right;\n",
       "    }\n",
       "</style>\n",
       "<table border=\"1\" class=\"dataframe\">\n",
       "  <thead>\n",
       "    <tr style=\"text-align: right;\">\n",
       "      <th></th>\n",
       "      <th>A</th>\n",
       "      <th>C</th>\n",
       "      <th>E</th>\n",
       "      <th>class_x</th>\n",
       "      <th>B</th>\n",
       "      <th>D</th>\n",
       "      <th>F</th>\n",
       "      <th>class_y</th>\n",
       "    </tr>\n",
       "  </thead>\n",
       "  <tbody>\n",
       "    <tr>\n",
       "      <th>0</th>\n",
       "      <td>-0.386248</td>\n",
       "      <td>1.536628</td>\n",
       "      <td>1.232589</td>\n",
       "      <td>1</td>\n",
       "      <td>-1.432057</td>\n",
       "      <td>1.039420</td>\n",
       "      <td>0.280469</td>\n",
       "      <td>1</td>\n",
       "    </tr>\n",
       "    <tr>\n",
       "      <th>1</th>\n",
       "      <td>-2.686649</td>\n",
       "      <td>4.640702</td>\n",
       "      <td>0.823433</td>\n",
       "      <td>1</td>\n",
       "      <td>-4.036329</td>\n",
       "      <td>0.526320</td>\n",
       "      <td>-0.419013</td>\n",
       "      <td>1</td>\n",
       "    </tr>\n",
       "    <tr>\n",
       "      <th>2</th>\n",
       "      <td>0.474124</td>\n",
       "      <td>1.576616</td>\n",
       "      <td>-1.256234</td>\n",
       "      <td>0</td>\n",
       "      <td>0.179770</td>\n",
       "      <td>0.157974</td>\n",
       "      <td>-0.162869</td>\n",
       "      <td>0</td>\n",
       "    </tr>\n",
       "    <tr>\n",
       "      <th>3</th>\n",
       "      <td>-1.343790</td>\n",
       "      <td>-0.514008</td>\n",
       "      <td>1.520392</td>\n",
       "      <td>2</td>\n",
       "      <td>-1.299109</td>\n",
       "      <td>-0.152250</td>\n",
       "      <td>0.045123</td>\n",
       "      <td>2</td>\n",
       "    </tr>\n",
       "    <tr>\n",
       "      <th>4</th>\n",
       "      <td>-2.187600</td>\n",
       "      <td>0.289041</td>\n",
       "      <td>1.318321</td>\n",
       "      <td>2</td>\n",
       "      <td>-2.089699</td>\n",
       "      <td>-0.494995</td>\n",
       "      <td>-0.661858</td>\n",
       "      <td>2</td>\n",
       "    </tr>\n",
       "  </tbody>\n",
       "</table>\n",
       "</div>"
      ],
      "text/plain": [
       "          A         C         E  class_x         B         D         F  \\\n",
       "0 -0.386248  1.536628  1.232589        1 -1.432057  1.039420  0.280469   \n",
       "1 -2.686649  4.640702  0.823433        1 -4.036329  0.526320 -0.419013   \n",
       "2  0.474124  1.576616 -1.256234        0  0.179770  0.157974 -0.162869   \n",
       "3 -1.343790 -0.514008  1.520392        2 -1.299109 -0.152250  0.045123   \n",
       "4 -2.187600  0.289041  1.318321        2 -2.089699 -0.494995 -0.661858   \n",
       "\n",
       "   class_y  \n",
       "0        1  \n",
       "1        1  \n",
       "2        0  \n",
       "3        2  \n",
       "4        2  "
      ]
     },
     "metadata": {},
     "output_type": "display_data"
    }
   ],
   "source": [
    "import pandas as pd\n",
    "\n",
    "df_1 = pd.read_csv('./exam_1.csv').rename(columns={'class' : 'class_x'})\n",
    "df_2 = pd.read_csv('./exam_2.csv').rename(columns={'class' : 'class_y'})\n",
    "\n",
    "df = pd.merge(df_1, df_2, how='left')\n",
    "df.drop(labels=[df.columns[0]], axis=1, inplace=True) # Then we don't need them anymore\n",
    "\n",
    "display(df_1.head())\n",
    "display(df_2.head())\n",
    "display(df.head())"
   ]
  },
  {
   "cell_type": "markdown",
   "metadata": {},
   "source": [
    "# 2) Delete all the rows where class_x is different from class_y, then drop class_y and rename class_x as class"
   ]
  },
  {
   "cell_type": "code",
   "execution_count": 23,
   "metadata": {},
   "outputs": [],
   "source": [
    "for elem in range(df.shape[0]) :\n",
    "    if df['class_x'][elem] != df['class_y'][elem] :\n",
    "        df.drop(index=elem, inplace=True)\n",
    "\n",
    "df = df.drop(labels=['class_y'], axis=1).rename(columns={'class_x' : 'class'})"
   ]
  },
  {
   "cell_type": "code",
   "execution_count": 26,
   "metadata": {},
   "outputs": [
    {
     "data": {
      "text/html": [
       "<div>\n",
       "<style scoped>\n",
       "    .dataframe tbody tr th:only-of-type {\n",
       "        vertical-align: middle;\n",
       "    }\n",
       "\n",
       "    .dataframe tbody tr th {\n",
       "        vertical-align: top;\n",
       "    }\n",
       "\n",
       "    .dataframe thead th {\n",
       "        text-align: right;\n",
       "    }\n",
       "</style>\n",
       "<table border=\"1\" class=\"dataframe\">\n",
       "  <thead>\n",
       "    <tr style=\"text-align: right;\">\n",
       "      <th></th>\n",
       "      <th>A</th>\n",
       "      <th>C</th>\n",
       "      <th>E</th>\n",
       "      <th>class</th>\n",
       "      <th>B</th>\n",
       "      <th>D</th>\n",
       "      <th>F</th>\n",
       "    </tr>\n",
       "  </thead>\n",
       "  <tbody>\n",
       "    <tr>\n",
       "      <th>0</th>\n",
       "      <td>-0.386248</td>\n",
       "      <td>1.536628</td>\n",
       "      <td>1.232589</td>\n",
       "      <td>1</td>\n",
       "      <td>-1.432057</td>\n",
       "      <td>1.039420</td>\n",
       "      <td>0.280469</td>\n",
       "    </tr>\n",
       "    <tr>\n",
       "      <th>1</th>\n",
       "      <td>-2.686649</td>\n",
       "      <td>4.640702</td>\n",
       "      <td>0.823433</td>\n",
       "      <td>1</td>\n",
       "      <td>-4.036329</td>\n",
       "      <td>0.526320</td>\n",
       "      <td>-0.419013</td>\n",
       "    </tr>\n",
       "    <tr>\n",
       "      <th>2</th>\n",
       "      <td>0.474124</td>\n",
       "      <td>1.576616</td>\n",
       "      <td>-1.256234</td>\n",
       "      <td>0</td>\n",
       "      <td>0.179770</td>\n",
       "      <td>0.157974</td>\n",
       "      <td>-0.162869</td>\n",
       "    </tr>\n",
       "    <tr>\n",
       "      <th>3</th>\n",
       "      <td>-1.343790</td>\n",
       "      <td>-0.514008</td>\n",
       "      <td>1.520392</td>\n",
       "      <td>2</td>\n",
       "      <td>-1.299109</td>\n",
       "      <td>-0.152250</td>\n",
       "      <td>0.045123</td>\n",
       "    </tr>\n",
       "    <tr>\n",
       "      <th>4</th>\n",
       "      <td>-2.187600</td>\n",
       "      <td>0.289041</td>\n",
       "      <td>1.318321</td>\n",
       "      <td>2</td>\n",
       "      <td>-2.089699</td>\n",
       "      <td>-0.494995</td>\n",
       "      <td>-0.661858</td>\n",
       "    </tr>\n",
       "  </tbody>\n",
       "</table>\n",
       "</div>"
      ],
      "text/plain": [
       "          A         C         E  class         B         D         F\n",
       "0 -0.386248  1.536628  1.232589      1 -1.432057  1.039420  0.280469\n",
       "1 -2.686649  4.640702  0.823433      1 -4.036329  0.526320 -0.419013\n",
       "2  0.474124  1.576616 -1.256234      0  0.179770  0.157974 -0.162869\n",
       "3 -1.343790 -0.514008  1.520392      2 -1.299109 -0.152250  0.045123\n",
       "4 -2.187600  0.289041  1.318321      2 -2.089699 -0.494995 -0.661858"
      ]
     },
     "execution_count": 26,
     "metadata": {},
     "output_type": "execute_result"
    }
   ],
   "source": [
    "df.head()"
   ]
  },
  {
   "cell_type": "markdown",
   "metadata": {},
   "source": [
    "# 3) Reorder the columns in alphabetical order, but placing the class column as the last one; the cleaned dataframe must be named df; show its size and head "
   ]
  },
  {
   "cell_type": "code",
   "execution_count": 29,
   "metadata": {},
   "outputs": [
    {
     "name": "stdout",
     "output_type": "stream",
     "text": [
      "The dataframe has 1984 rows and 7 columns\n"
     ]
    },
    {
     "data": {
      "text/html": [
       "<div>\n",
       "<style scoped>\n",
       "    .dataframe tbody tr th:only-of-type {\n",
       "        vertical-align: middle;\n",
       "    }\n",
       "\n",
       "    .dataframe tbody tr th {\n",
       "        vertical-align: top;\n",
       "    }\n",
       "\n",
       "    .dataframe thead th {\n",
       "        text-align: right;\n",
       "    }\n",
       "</style>\n",
       "<table border=\"1\" class=\"dataframe\">\n",
       "  <thead>\n",
       "    <tr style=\"text-align: right;\">\n",
       "      <th></th>\n",
       "      <th>A</th>\n",
       "      <th>B</th>\n",
       "      <th>C</th>\n",
       "      <th>D</th>\n",
       "      <th>E</th>\n",
       "      <th>F</th>\n",
       "      <th>class</th>\n",
       "    </tr>\n",
       "  </thead>\n",
       "  <tbody>\n",
       "    <tr>\n",
       "      <th>0</th>\n",
       "      <td>-0.386248</td>\n",
       "      <td>-1.432057</td>\n",
       "      <td>1.536628</td>\n",
       "      <td>1.039420</td>\n",
       "      <td>1.232589</td>\n",
       "      <td>0.280469</td>\n",
       "      <td>1</td>\n",
       "    </tr>\n",
       "    <tr>\n",
       "      <th>1</th>\n",
       "      <td>-2.686649</td>\n",
       "      <td>-4.036329</td>\n",
       "      <td>4.640702</td>\n",
       "      <td>0.526320</td>\n",
       "      <td>0.823433</td>\n",
       "      <td>-0.419013</td>\n",
       "      <td>1</td>\n",
       "    </tr>\n",
       "    <tr>\n",
       "      <th>2</th>\n",
       "      <td>0.474124</td>\n",
       "      <td>0.179770</td>\n",
       "      <td>1.576616</td>\n",
       "      <td>0.157974</td>\n",
       "      <td>-1.256234</td>\n",
       "      <td>-0.162869</td>\n",
       "      <td>0</td>\n",
       "    </tr>\n",
       "    <tr>\n",
       "      <th>3</th>\n",
       "      <td>-1.343790</td>\n",
       "      <td>-1.299109</td>\n",
       "      <td>-0.514008</td>\n",
       "      <td>-0.152250</td>\n",
       "      <td>1.520392</td>\n",
       "      <td>0.045123</td>\n",
       "      <td>2</td>\n",
       "    </tr>\n",
       "    <tr>\n",
       "      <th>4</th>\n",
       "      <td>-2.187600</td>\n",
       "      <td>-2.089699</td>\n",
       "      <td>0.289041</td>\n",
       "      <td>-0.494995</td>\n",
       "      <td>1.318321</td>\n",
       "      <td>-0.661858</td>\n",
       "      <td>2</td>\n",
       "    </tr>\n",
       "  </tbody>\n",
       "</table>\n",
       "</div>"
      ],
      "text/plain": [
       "          A         B         C         D         E         F  class\n",
       "0 -0.386248 -1.432057  1.536628  1.039420  1.232589  0.280469      1\n",
       "1 -2.686649 -4.036329  4.640702  0.526320  0.823433 -0.419013      1\n",
       "2  0.474124  0.179770  1.576616  0.157974 -1.256234 -0.162869      0\n",
       "3 -1.343790 -1.299109 -0.514008 -0.152250  1.520392  0.045123      2\n",
       "4 -2.187600 -2.089699  0.289041 -0.494995  1.318321 -0.661858      2"
      ]
     },
     "execution_count": 29,
     "metadata": {},
     "output_type": "execute_result"
    }
   ],
   "source": [
    "columns = df.columns\n",
    "columns = sorted(columns) # order the labels\n",
    "\n",
    "columns.remove('class'); columns.append('class') # class in last position\n",
    "\n",
    "df = df[columns] # reordered\n",
    "\n",
    "print(f\"The dataframe has {df.shape[0]} rows and {df.shape[1]} columns\")\n",
    "df.head()"
   ]
  },
  {
   "cell_type": "markdown",
   "metadata": {},
   "source": [
    "# 4) Find the best classification scheme using three classification methods \n",
    "We'll use Decision Trees, Linear Perceptron and K-nearest Neighbors"
   ]
  },
  {
   "cell_type": "code",
   "execution_count": 33,
   "metadata": {},
   "outputs": [],
   "source": [
    "# We extract the X and y\n",
    "target = 'class'\n",
    "random_state = 42\n",
    "\n",
    "y = df[target]\n",
    "X = df.drop(target, axis=1)\n",
    "\n",
    "from sklearn.model_selection import train_test_split\n",
    "X_train, X_test, y_train, y_test = train_test_split(X, y, random_state=random_state)"
   ]
  },
  {
   "cell_type": "markdown",
   "metadata": {},
   "source": [
    "## 4.1) Decision Trees"
   ]
  },
  {
   "cell_type": "code",
   "execution_count": 34,
   "metadata": {},
   "outputs": [],
   "source": [
    "from sklearn.metrics import accuracy_score\n",
    "from sklearn.tree import DecisionTreeClassifier\n",
    "\n",
    "# Train model\n",
    "dt = DecisionTreeClassifier(random_state=random_state)\n",
    "dt.fit(X_train, y_train)\n",
    "\n",
    "# Use model\n",
    "y_dt_train = dt.predict(X_train)\n",
    "y_dt_test = dt.predict(X_test)\n",
    "\n",
    "# Compute accuracy\n",
    "dt_train_acc = accuracy_score(y_train, y_dt_train) * 100\n",
    "dt_test_acc = accuracy_score(y_test, y_dt_test) * 100"
   ]
  },
  {
   "cell_type": "markdown",
   "metadata": {},
   "source": [
    "## 4.2) Linear Perceptron"
   ]
  },
  {
   "cell_type": "code",
   "execution_count": 37,
   "metadata": {},
   "outputs": [],
   "source": [
    "from sklearn.linear_model import Perceptron\n",
    "\n",
    "# Train model\n",
    "lp = Perceptron(random_state=random_state)\n",
    "lp.fit(X_train, y_train)\n",
    "\n",
    "# Use model\n",
    "y_lp_train = lp.predict(X_train)\n",
    "y_lp_test = lp.predict(X_test)\n",
    "\n",
    "# Compute accuracy\n",
    "lp_train_acc = accuracy_score(y_train, y_lp_train) * 100\n",
    "lp_test_acc = accuracy_score(y_test, y_lp_test) * 100\n"
   ]
  },
  {
   "cell_type": "markdown",
   "metadata": {},
   "source": [
    "## 4.3) K-nearest neighbours"
   ]
  },
  {
   "cell_type": "code",
   "execution_count": 41,
   "metadata": {},
   "outputs": [],
   "source": [
    "from sklearn.neighbors import KNeighborsClassifier\n",
    "\n",
    "# Train model\n",
    "knn = KNeighborsClassifier()\n",
    "knn.fit(X_train, y_train)\n",
    "\n",
    "# Use model\n",
    "y_knn_train = knn.predict(X_train)\n",
    "y_knn_test = knn.predict(X_test)\n",
    "\n",
    "# Compute accuracy\n",
    "knn_train_acc = accuracy_score(y_train, y_knn_train) * 100\n",
    "knn_test_acc = accuracy_score(y_test, y_knn_test) * 100"
   ]
  },
  {
   "cell_type": "markdown",
   "metadata": {},
   "source": [
    "## 4.4) Results"
   ]
  },
  {
   "cell_type": "code",
   "execution_count": 45,
   "metadata": {},
   "outputs": [
    {
     "name": "stdout",
     "output_type": "stream",
     "text": [
      "Decision Tree accuracy: 100.00% on training and 81.85% on testing\n",
      "Linear Perceptron accuracy: 74.13% on training and 74.80% on testing\n",
      "K-nearest neighbours accuracy: 90.32% on training and 88.10% on testing\n"
     ]
    }
   ],
   "source": [
    "print(f\"Decision Tree accuracy: {dt_train_acc:.2f}% on training and {dt_test_acc:.2f}% on testing\")\n",
    "print(f\"Linear Perceptron accuracy: {lp_train_acc:.2f}% on training and {lp_test_acc:.2f}% on testing\")\n",
    "print(f\"K-nearest neighbours accuracy: {knn_train_acc:.2f}% on training and {knn_test_acc:.2f}% on testing\")"
   ]
  },
  {
   "cell_type": "markdown",
   "metadata": {},
   "source": [
    "We can observe that 'Linear Perceptron' is way worse than the others, the 'Decision Tree' is overfitting (working too much better in train set than in test set) while the best seems to be 'K-nearest neighbours' with the highest accuracy on test set."
   ]
  },
  {
   "cell_type": "markdown",
   "metadata": {},
   "source": [
    "# 5) For each classification method find the best parameter setting with cross validation on the training set "
   ]
  },
  {
   "cell_type": "code",
   "execution_count": 58,
   "metadata": {},
   "outputs": [],
   "source": [
    "# Labels\n",
    "model_names = ['dt', 'lp', 'knn']\n",
    "\n",
    "# Models\n",
    "models = {\n",
    "    'dt' : {\n",
    "        'name' : 'Decision Tree',\n",
    "        'classifier' : DecisionTreeClassifier(),\n",
    "        'param' : [{\n",
    "            'random_state' : [random_state],\n",
    "            'max_depth' : list(range(1, dt.get_depth() + 1))\n",
    "        }]\n",
    "    },\n",
    "    'lp' : {\n",
    "        'name' : 'Linear Perceptron',\n",
    "        'classifier' : Perceptron(),\n",
    "        'param' : [{\n",
    "            'random_state' : [random_state],\n",
    "            'early_stopping': [True,False]\n",
    "        }]\n",
    "    },\n",
    "    'knn' : {\n",
    "        'name' : 'K-Nearest Neighbors',\n",
    "        'classifier' : KNeighborsClassifier(),\n",
    "        'param' : [{\n",
    "            'n_neighbors' : list(range(1,11))\n",
    "        }]\n",
    "    }\n",
    "}"
   ]
  },
  {
   "cell_type": "code",
   "execution_count": 77,
   "metadata": {},
   "outputs": [
    {
     "name": "stdout",
     "output_type": "stream",
     "text": [
      "Decision Tree: \n",
      "0.8245967741935484\n",
      "{'max_depth': 7, 'random_state': 42}\n",
      "##################################################\n",
      "Linear Perceptron: \n",
      "0.7479838709677419\n",
      "{'early_stopping': False, 'random_state': 42}\n",
      "##################################################\n",
      "K-Nearest Neighbors: \n",
      "0.8629032258064516\n",
      "{'n_neighbors': 9}\n",
      "##################################################\n"
     ]
    }
   ],
   "source": [
    "from sklearn.metrics import classification_report\n",
    "from sklearn.model_selection import GridSearchCV\n",
    "\n",
    "best_results = {}\n",
    "best_params = {}\n",
    "clfs = []\n",
    "cv=5\n",
    "\n",
    "for model in model_names :\n",
    "    print(f\"{models[model]['name']}: \")\n",
    "\n",
    "    # Define inizialize the Cross Validation\n",
    "    clf = GridSearchCV(models[model]['classifier'], \n",
    "                       models[model]['param'],\n",
    "                       cv=cv, \n",
    "                       scoring='accuracy')\n",
    "    \n",
    "    # Train the Cross Validation\n",
    "    clf.fit(X_train, y_train)   \n",
    "    clfs.append(clf)\n",
    "\n",
    "    # Test the Cross Validation\n",
    "    y_true, y_pred = y_test, clf.predict(X_test)\n",
    "\n",
    "    # Report\n",
    "    cr = classification_report(y_true,\n",
    "                               y_pred, \n",
    "                               output_dict=True,\n",
    "                               zero_division=1)\n",
    "\n",
    "    # Register the best\n",
    "    best_params[model] = clf.best_params_\n",
    "    best_results[model] = cr['accuracy'] #clf.best_score_\n",
    "\n",
    "    # Display\n",
    "    print(f\"{best_results[model]}\")\n",
    "    print(f\"{best_params[model]}\")\n",
    "    print('#'*50)"
   ]
  },
  {
   "cell_type": "markdown",
   "metadata": {},
   "source": [
    "# 6) For each classification method compute the accuracy and the confusion matrix on the test set"
   ]
  },
  {
   "cell_type": "code",
   "execution_count": 88,
   "metadata": {},
   "outputs": [],
   "source": [
    "from sklearn.metrics import confusion_matrix\n",
    "\n",
    "accuracy_values = {}\n",
    "cm_values = {}\n",
    "\n",
    "# We use the best parameters\n",
    "for m in model_names :\n",
    "    # Instantiate the classifier with the best parameters\n",
    "    model = models[m]['classifier'].set_params(**best_params[m])\n",
    "\n",
    "    # Use the model\n",
    "    model.fit(X_test, y_test)\n",
    "    y_test_model = model.predict(X_test)\n",
    "\n",
    "    # We collect its accuracy and the confusion matrix\n",
    "    accuracy_values[m] = accuracy_score(y_test, y_test_model)*100\n",
    "    cm_values[m] = confusion_matrix(y_test, y_test_model)"
   ]
  },
  {
   "cell_type": "code",
   "execution_count": 89,
   "metadata": {},
   "outputs": [
    {
     "name": "stdout",
     "output_type": "stream",
     "text": [
      "The dt : 95.77\n",
      "The lp : 78.02\n",
      "The knn : 87.30\n"
     ]
    }
   ],
   "source": [
    "# Display accuracy\n",
    "for m in model_names :\n",
    "    print(f\"The {m} : {accuracy_values[m]:.2f}\") "
   ]
  },
  {
   "cell_type": "code",
   "execution_count": 92,
   "metadata": {},
   "outputs": [
    {
     "data": {
      "image/png": "[encoded data removed]",
      "text/plain": [
       "<Figure size 640x480 with 2 Axes>"
      ]
     },
     "metadata": {},
     "output_type": "display_data"
    },
    {
     "data": {
      "image/png": "[encoded data removed]",
      "text/plain": [
       "<Figure size 640x480 with 2 Axes>"
      ]
     },
     "metadata": {},
     "output_type": "display_data"
    },
    {
     "data": {
      "image/png": "[encoded data removed]",
      "text/plain": [
       "<Figure size 640x480 with 2 Axes>"
      ]
     },
     "metadata": {},
     "output_type": "display_data"
    }
   ],
   "source": [
    "from sklearn.metrics import ConfusionMatrixDisplay\n",
    "\n",
    "# Display confusion matrix\n",
    "for m in model_names :\n",
    "    ConfusionMatrixDisplay(cm_values[m]).plot()"
   ]
  },
  {
   "cell_type": "markdown",
   "metadata": {},
   "source": [
    "# 7) Produce a plot of the accuracies given by the methods attempted  "
   ]
  },
  {
   "cell_type": "code",
   "execution_count": 98,
   "metadata": {},
   "outputs": [
    {
     "data": {
      "text/plain": [
       "dict_values([95.76612903225806, 78.0241935483871, 87.29838709677419])"
      ]
     },
     "execution_count": 98,
     "metadata": {},
     "output_type": "execute_result"
    }
   ],
   "source": [
    "accuracy_values.values()"
   ]
  },
  {
   "cell_type": "code",
   "execution_count": 99,
   "metadata": {},
   "outputs": [
    {
     "data": {
      "text/plain": [
       "<BarContainer object of 3 artists>"
      ]
     },
     "execution_count": 99,
     "metadata": {},
     "output_type": "execute_result"
    },
    {
     "data": {
      "image/png": "[encoded data removed]",
      "text/plain": [
       "<Figure size 640x480 with 1 Axes>"
      ]
     },
     "metadata": {},
     "output_type": "display_data"
    }
   ],
   "source": [
    "from matplotlib import pyplot as plt\n",
    "\n",
    "plt.title('Accuracy of the classifier')\n",
    "plt.bar(model_names, accuracy_values.values())"
   ]
  }
 ],
 "metadata": {
  "kernelspec": {
   "display_name": "Python 3",
   "language": "python",
   "name": "python3"
  },
  "language_info": {
   "codemirror_mode": {
    "name": "ipython",
    "version": 3
   },
   "file_extension": ".py",
   "mimetype": "text/x-python",
   "name": "python",
   "nbconvert_exporter": "python",
   "pygments_lexer": "ipython3",
   "version": "3.11.6"
  }
 },
 "nbformat": 4,
 "nbformat_minor": 2
}
